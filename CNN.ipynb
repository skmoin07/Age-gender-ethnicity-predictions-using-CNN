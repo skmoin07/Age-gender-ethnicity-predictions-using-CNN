{
 "cells": [
  {
   "cell_type": "markdown",
   "metadata": {},
   "source": [
    "AGE, GENDER AND ETHNICITY (FACE DATA) PREDICTIONS\n"
   ]
  },
  {
   "cell_type": "markdown",
   "metadata": {},
   "source": [
    "Details:\n",
    "\n",
    "ETHNICITIES = [ 0: \"White\", 1: \"Black\", 2: \"Asian\", 3: \"Indian\", 4: \"Hispanic\" ]\n",
    "\n",
    "GENDERS = [ 0: \"Male\", 1: \"Female\" ]"
   ]
  },
  {
   "cell_type": "code",
   "execution_count": 6,
   "metadata": {},
   "outputs": [],
   "source": [
    "#IMPORTING USEFULL LIBRARIES \n",
    "import numpy as np \n",
    "import tensorflow as tf\n",
    "import pandas as pd \n",
    "import matplotlib.pyplot as plt\n",
    "%matplotlib inline\n",
    "import seaborn as sns\n",
    "sns.set()\n",
    "from keras.models import Sequential\n",
    "from keras.layers import Conv2D, Dropout, BatchNormalization, Flatten, Dense, MaxPooling2D\n",
    "from tensorflow.keras.utils import to_categorical\n",
    "from keras.callbacks import EarlyStopping, ReduceLROnPlateau\n",
    "from tensorflow.keras.optimizers import Adam\n",
    "from sklearn.metrics import mean_absolute_error, confusion_matrix, classification_report\n",
    "from sklearn.model_selection import train_test_split\n"
   ]
  },
  {
   "cell_type": "code",
   "execution_count": 4,
   "metadata": {},
   "outputs": [
    {
     "data": {
      "text/html": [
       "<div>\n",
       "<style scoped>\n",
       "    .dataframe tbody tr th:only-of-type {\n",
       "        vertical-align: middle;\n",
       "    }\n",
       "\n",
       "    .dataframe tbody tr th {\n",
       "        vertical-align: top;\n",
       "    }\n",
       "\n",
       "    .dataframe thead th {\n",
       "        text-align: right;\n",
       "    }\n",
       "</style>\n",
       "<table border=\"1\" class=\"dataframe\">\n",
       "  <thead>\n",
       "    <tr style=\"text-align: right;\">\n",
       "      <th></th>\n",
       "      <th>age</th>\n",
       "      <th>ethnicity</th>\n",
       "      <th>gender</th>\n",
       "      <th>img_name</th>\n",
       "      <th>pixels</th>\n",
       "    </tr>\n",
       "  </thead>\n",
       "  <tbody>\n",
       "    <tr>\n",
       "      <th>0</th>\n",
       "      <td>1</td>\n",
       "      <td>2</td>\n",
       "      <td>0</td>\n",
       "      <td>20161219203650636.jpg.chip.jpg</td>\n",
       "      <td>129 128 128 126 127 130 133 135 139 142 145 14...</td>\n",
       "    </tr>\n",
       "    <tr>\n",
       "      <th>1</th>\n",
       "      <td>1</td>\n",
       "      <td>2</td>\n",
       "      <td>0</td>\n",
       "      <td>20161219222752047.jpg.chip.jpg</td>\n",
       "      <td>164 74 111 168 169 171 175 182 184 188 193 199...</td>\n",
       "    </tr>\n",
       "    <tr>\n",
       "      <th>2</th>\n",
       "      <td>1</td>\n",
       "      <td>2</td>\n",
       "      <td>0</td>\n",
       "      <td>20161219222832191.jpg.chip.jpg</td>\n",
       "      <td>67 70 71 70 69 67 70 79 90 103 116 132 145 155...</td>\n",
       "    </tr>\n",
       "    <tr>\n",
       "      <th>3</th>\n",
       "      <td>1</td>\n",
       "      <td>2</td>\n",
       "      <td>0</td>\n",
       "      <td>20161220144911423.jpg.chip.jpg</td>\n",
       "      <td>193 197 198 200 199 200 202 203 204 205 208 21...</td>\n",
       "    </tr>\n",
       "    <tr>\n",
       "      <th>4</th>\n",
       "      <td>1</td>\n",
       "      <td>2</td>\n",
       "      <td>0</td>\n",
       "      <td>20161220144914327.jpg.chip.jpg</td>\n",
       "      <td>202 205 209 210 209 209 210 211 212 214 218 21...</td>\n",
       "    </tr>\n",
       "  </tbody>\n",
       "</table>\n",
       "</div>"
      ],
      "text/plain": [
       "   age  ethnicity  gender                        img_name  \\\n",
       "0    1          2       0  20161219203650636.jpg.chip.jpg   \n",
       "1    1          2       0  20161219222752047.jpg.chip.jpg   \n",
       "2    1          2       0  20161219222832191.jpg.chip.jpg   \n",
       "3    1          2       0  20161220144911423.jpg.chip.jpg   \n",
       "4    1          2       0  20161220144914327.jpg.chip.jpg   \n",
       "\n",
       "                                              pixels  \n",
       "0  129 128 128 126 127 130 133 135 139 142 145 14...  \n",
       "1  164 74 111 168 169 171 175 182 184 188 193 199...  \n",
       "2  67 70 71 70 69 67 70 79 90 103 116 132 145 155...  \n",
       "3  193 197 198 200 199 200 202 203 204 205 208 21...  \n",
       "4  202 205 209 210 209 209 210 211 212 214 218 21...  "
      ]
     },
     "execution_count": 4,
     "metadata": {},
     "output_type": "execute_result"
    }
   ],
   "source": [
    "data=pd.read_csv(\"C:/Recent Download/age_gender.csv\")\n",
    "data.head()"
   ]
  },
  {
   "cell_type": "code",
   "execution_count": 4,
   "metadata": {},
   "outputs": [
    {
     "data": {
      "text/plain": [
       "age          0\n",
       "ethnicity    0\n",
       "gender       0\n",
       "img_name     0\n",
       "pixels       0\n",
       "dtype: int64"
      ]
     },
     "execution_count": 4,
     "metadata": {},
     "output_type": "execute_result"
    }
   ],
   "source": [
    "#Missing values\n",
    "data.isnull().sum()"
   ]
  },
  {
   "cell_type": "markdown",
   "metadata": {},
   "source": [
    "There are no missing values in dataset."
   ]
  },
  {
   "cell_type": "code",
   "execution_count": 4,
   "metadata": {},
   "outputs": [
    {
     "data": {
      "text/html": [
       "<div>\n",
       "<style scoped>\n",
       "    .dataframe tbody tr th:only-of-type {\n",
       "        vertical-align: middle;\n",
       "    }\n",
       "\n",
       "    .dataframe tbody tr th {\n",
       "        vertical-align: top;\n",
       "    }\n",
       "\n",
       "    .dataframe thead th {\n",
       "        text-align: right;\n",
       "    }\n",
       "</style>\n",
       "<table border=\"1\" class=\"dataframe\">\n",
       "  <thead>\n",
       "    <tr style=\"text-align: right;\">\n",
       "      <th></th>\n",
       "      <th>age</th>\n",
       "      <th>ethnicity</th>\n",
       "      <th>gender</th>\n",
       "    </tr>\n",
       "  </thead>\n",
       "  <tbody>\n",
       "    <tr>\n",
       "      <th>count</th>\n",
       "      <td>23705.000000</td>\n",
       "      <td>23705.000000</td>\n",
       "      <td>23705.000000</td>\n",
       "    </tr>\n",
       "    <tr>\n",
       "      <th>mean</th>\n",
       "      <td>33.300907</td>\n",
       "      <td>1.269226</td>\n",
       "      <td>0.477283</td>\n",
       "    </tr>\n",
       "    <tr>\n",
       "      <th>std</th>\n",
       "      <td>19.885708</td>\n",
       "      <td>1.345638</td>\n",
       "      <td>0.499494</td>\n",
       "    </tr>\n",
       "    <tr>\n",
       "      <th>min</th>\n",
       "      <td>1.000000</td>\n",
       "      <td>0.000000</td>\n",
       "      <td>0.000000</td>\n",
       "    </tr>\n",
       "    <tr>\n",
       "      <th>25%</th>\n",
       "      <td>23.000000</td>\n",
       "      <td>0.000000</td>\n",
       "      <td>0.000000</td>\n",
       "    </tr>\n",
       "    <tr>\n",
       "      <th>50%</th>\n",
       "      <td>29.000000</td>\n",
       "      <td>1.000000</td>\n",
       "      <td>0.000000</td>\n",
       "    </tr>\n",
       "    <tr>\n",
       "      <th>75%</th>\n",
       "      <td>45.000000</td>\n",
       "      <td>2.000000</td>\n",
       "      <td>1.000000</td>\n",
       "    </tr>\n",
       "    <tr>\n",
       "      <th>max</th>\n",
       "      <td>116.000000</td>\n",
       "      <td>4.000000</td>\n",
       "      <td>1.000000</td>\n",
       "    </tr>\n",
       "  </tbody>\n",
       "</table>\n",
       "</div>"
      ],
      "text/plain": [
       "                age     ethnicity        gender\n",
       "count  23705.000000  23705.000000  23705.000000\n",
       "mean      33.300907      1.269226      0.477283\n",
       "std       19.885708      1.345638      0.499494\n",
       "min        1.000000      0.000000      0.000000\n",
       "25%       23.000000      0.000000      0.000000\n",
       "50%       29.000000      1.000000      0.000000\n",
       "75%       45.000000      2.000000      1.000000\n",
       "max      116.000000      4.000000      1.000000"
      ]
     },
     "execution_count": 4,
     "metadata": {},
     "output_type": "execute_result"
    }
   ],
   "source": [
    "data.describe()"
   ]
  },
  {
   "cell_type": "code",
   "execution_count": 5,
   "metadata": {},
   "outputs": [],
   "source": [
    "def basic_eda(data):\n",
    "    print(\"\\n Shape: \")\n",
    "    print(data.shape)\n",
    "    print(\"\\n Value count of age: \")\n",
    "    print(data['age'].value_counts())\n",
    "    print(\"\\n\\n --------- \")\n",
    "    print(\"\\n Value count of ethnicity: \")\n",
    "    print(data['ethnicity'].value_counts())\n",
    "    print(\"\\n\\n --------- \")\n",
    "    print(\"\\n Value count of gender: \")\n",
    "    print(data['gender'].value_counts())"
   ]
  },
  {
   "cell_type": "code",
   "execution_count": 6,
   "metadata": {},
   "outputs": [
    {
     "name": "stdout",
     "output_type": "stream",
     "text": [
      "\n",
      " Shape: \n",
      "(23705, 5)\n",
      "\n",
      " Value count of age: \n",
      "26     2197\n",
      "1      1123\n",
      "28      918\n",
      "35      880\n",
      "24      859\n",
      "       ... \n",
      "115       3\n",
      "101       2\n",
      "91        2\n",
      "111       1\n",
      "103       1\n",
      "Name: age, Length: 104, dtype: int64\n",
      "\n",
      "\n",
      " --------- \n",
      "\n",
      " Value count of ethnicity: \n",
      "0    10078\n",
      "1     4526\n",
      "3     3975\n",
      "2     3434\n",
      "4     1692\n",
      "Name: ethnicity, dtype: int64\n",
      "\n",
      "\n",
      " --------- \n",
      "\n",
      " Value count of gender: \n",
      "0    12391\n",
      "1    11314\n",
      "Name: gender, dtype: int64\n"
     ]
    }
   ],
   "source": [
    "basic_eda(data)"
   ]
  },
  {
   "cell_type": "code",
   "execution_count": 7,
   "metadata": {},
   "outputs": [
    {
     "name": "stderr",
     "output_type": "stream",
     "text": [
      "C:\\Users\\ASUS\\anaconda3\\envs\\envo\\lib\\site-packages\\seaborn\\distributions.py:2619: FutureWarning: `distplot` is a deprecated function and will be removed in a future version. Please adapt your code to use either `displot` (a figure-level function with similar flexibility) or `histplot` (an axes-level function for histograms).\n",
      "  warnings.warn(msg, FutureWarning)\n"
     ]
    },
    {
     "data": {
      "text/plain": [
       "<AxesSubplot:xlabel='age', ylabel='Density'>"
      ]
     },
     "execution_count": 7,
     "metadata": {},
     "output_type": "execute_result"
    },
    {
     "data": {
      "image/png": "[encoded data removed]",
      "text/plain": [
       "<Figure size 864x576 with 1 Axes>"
      ]
     },
     "metadata": {},
     "output_type": "display_data"
    }
   ],
   "source": [
    "#Data Visualization\n",
    "#Distplot for Age feature\n",
    "plt.figure(figsize=(12,8))\n",
    "sns.distplot(data['age'])"
   ]
  },
  {
   "cell_type": "markdown",
   "metadata": {},
   "source": [
    "Most of the peoples are between age 20-50."
   ]
  },
  {
   "cell_type": "code",
   "execution_count": 8,
   "metadata": {},
   "outputs": [
    {
     "name": "stderr",
     "output_type": "stream",
     "text": [
      "C:\\Users\\ASUS\\anaconda3\\envs\\envo\\lib\\site-packages\\seaborn\\_decorators.py:36: FutureWarning: Pass the following variable as a keyword arg: x. From version 0.12, the only valid positional argument will be `data`, and passing other arguments without an explicit keyword will result in an error or misinterpretation.\n",
      "  warnings.warn(\n"
     ]
    },
    {
     "data": {
      "text/plain": [
       "<AxesSubplot:xlabel='ethnicity', ylabel='count'>"
      ]
     },
     "execution_count": 8,
     "metadata": {},
     "output_type": "execute_result"
    },
    {
     "data": {
      "image/png": "[encoded data removed]",
      "text/plain": [
       "<Figure size 864x504 with 1 Axes>"
      ]
     },
     "metadata": {},
     "output_type": "display_data"
    }
   ],
   "source": [
    "#Countplot for ethnicity features\n",
    "plt.figure(figsize=(12,7))\n",
    "sns.countplot(data['ethnicity'])"
   ]
  },
  {
   "cell_type": "markdown",
   "metadata": {},
   "source": [
    "0: Category is the most."
   ]
  },
  {
   "cell_type": "code",
   "execution_count": 9,
   "metadata": {},
   "outputs": [
    {
     "name": "stderr",
     "output_type": "stream",
     "text": [
      "C:\\Users\\ASUS\\anaconda3\\envs\\envo\\lib\\site-packages\\seaborn\\_decorators.py:36: FutureWarning: Pass the following variable as a keyword arg: x. From version 0.12, the only valid positional argument will be `data`, and passing other arguments without an explicit keyword will result in an error or misinterpretation.\n",
      "  warnings.warn(\n"
     ]
    },
    {
     "data": {
      "text/plain": [
       "<AxesSubplot:xlabel='gender', ylabel='count'>"
      ]
     },
     "execution_count": 9,
     "metadata": {},
     "output_type": "execute_result"
    },
    {
     "data": {
      "image/png": "[encoded data removed]",
      "text/plain": [
       "<Figure size 432x288 with 1 Axes>"
      ]
     },
     "metadata": {},
     "output_type": "display_data"
    }
   ],
   "source": [
    "#Countplot for gender features\n",
    "sns.countplot(data['gender'])"
   ]
  },
  {
   "cell_type": "markdown",
   "metadata": {},
   "source": [
    "Males are more in numbers."
   ]
  },
  {
   "cell_type": "code",
   "execution_count": 10,
   "metadata": {},
   "outputs": [],
   "source": [
    "data['pixels'] = data['pixels'].map(lambda x: np.array(x.split(' '), dtype=np.float32).reshape(48, 48))"
   ]
  },
  {
   "cell_type": "code",
   "execution_count": 11,
   "metadata": {},
   "outputs": [
    {
     "data": {
      "image/png": "[encoded data removed]",
      "text/plain": [
       "<Figure size 1440x720 with 5 Axes>"
      ]
     },
     "metadata": {},
     "output_type": "display_data"
    }
   ],
   "source": [
    "# Ploting pictures\n",
    "fig, axes = plt.subplots(1, 5, figsize=(20, 10))\n",
    "\n",
    "for i in range(5):\n",
    "    random_face = np.random.choice(len(data))\n",
    "    \n",
    "    age = data['age'][random_face]\n",
    "    ethnicity = data['ethnicity'][random_face]\n",
    "    gender = data['gender'][random_face]\n",
    "    \n",
    "    axes[i].set_title('Age: {0}, Ethnicity: {1}, Sex: {2}'.format(age, ethnicity, gender))\n",
    "    axes[i].imshow(data['pixels'][random_face])\n",
    "    axes[i].axis('off')\n"
   ]
  },
  {
   "cell_type": "markdown",
   "metadata": {},
   "source": [
    "AGE PREDICTION"
   ]
  },
  {
   "cell_type": "code",
   "execution_count": 12,
   "metadata": {},
   "outputs": [],
   "source": [
    "X = np.array(data['pixels'].to_list())\n",
    "X_reshaped = X.reshape(X.shape[0], 48, 48, 1)\n",
    "if np.max(X_reshaped) > 1: X_reshaped = X_reshaped / 255\n",
    "input_shape = X_reshaped.shape[1:] \n",
    "y = data['age'].values"
   ]
  },
  {
   "cell_type": "code",
   "execution_count": 13,
   "metadata": {},
   "outputs": [],
   "source": [
    "# Train test split\n",
    "X_train, X_test, y_train, y_test = train_test_split(X_reshaped, y, test_size=0.2, random_state=42)"
   ]
  },
  {
   "cell_type": "code",
   "execution_count": 14,
   "metadata": {},
   "outputs": [
    {
     "name": "stdout",
     "output_type": "stream",
     "text": [
      "Model: \"sequential\"\n",
      "_________________________________________________________________\n",
      " Layer (type)                Output Shape              Param #   \n",
      "=================================================================\n",
      " conv2d (Conv2D)             (None, 46, 46, 64)        640       \n",
      "                                                                 \n",
      " max_pooling2d (MaxPooling2D  (None, 23, 23, 64)       0         \n",
      " )                                                               \n",
      "                                                                 \n",
      " batch_normalization (BatchN  (None, 23, 23, 64)       256       \n",
      " ormalization)                                                   \n",
      "                                                                 \n",
      " conv2d_1 (Conv2D)           (None, 23, 23, 128)       73856     \n",
      "                                                                 \n",
      " conv2d_2 (Conv2D)           (None, 21, 21, 128)       147584    \n",
      "                                                                 \n",
      " max_pooling2d_1 (MaxPooling  (None, 10, 10, 128)      0         \n",
      " 2D)                                                             \n",
      "                                                                 \n",
      " dropout (Dropout)           (None, 10, 10, 128)       0         \n",
      "                                                                 \n",
      " batch_normalization_1 (Batc  (None, 10, 10, 128)      512       \n",
      " hNormalization)                                                 \n",
      "                                                                 \n",
      " conv2d_3 (Conv2D)           (None, 10, 10, 256)       295168    \n",
      "                                                                 \n",
      " conv2d_4 (Conv2D)           (None, 8, 8, 256)         590080    \n",
      "                                                                 \n",
      " max_pooling2d_2 (MaxPooling  (None, 4, 4, 256)        0         \n",
      " 2D)                                                             \n",
      "                                                                 \n",
      " dropout_1 (Dropout)         (None, 4, 4, 256)         0         \n",
      "                                                                 \n",
      " batch_normalization_2 (Batc  (None, 4, 4, 256)        1024      \n",
      " hNormalization)                                                 \n",
      "                                                                 \n",
      " conv2d_5 (Conv2D)           (None, 4, 4, 512)         1180160   \n",
      "                                                                 \n",
      " max_pooling2d_3 (MaxPooling  (None, 2, 2, 512)        0         \n",
      " 2D)                                                             \n",
      "                                                                 \n",
      " dropout_2 (Dropout)         (None, 2, 2, 512)         0         \n",
      "                                                                 \n",
      " batch_normalization_3 (Batc  (None, 2, 2, 512)        2048      \n",
      " hNormalization)                                                 \n",
      "                                                                 \n",
      " flatten (Flatten)           (None, 2048)              0         \n",
      "                                                                 \n",
      " dense (Dense)               (None, 128)               262272    \n",
      "                                                                 \n",
      " dropout_3 (Dropout)         (None, 128)               0         \n",
      "                                                                 \n",
      " dense_1 (Dense)             (None, 1)                 129       \n",
      "                                                                 \n",
      "=================================================================\n",
      "Total params: 2,553,729\n",
      "Trainable params: 2,551,809\n",
      "Non-trainable params: 1,920\n",
      "_________________________________________________________________\n"
     ]
    }
   ],
   "source": [
    "#Model for age \n",
    "age_model = Sequential()\n",
    "\n",
    "age_model.add(Conv2D(64, kernel_size=(3,3), input_shape=input_shape, activation='relu'))\n",
    "age_model.add(MaxPooling2D(pool_size=(2,2)))\n",
    "age_model.add(BatchNormalization())\n",
    "\n",
    "age_model.add(Conv2D(128, kernel_size=(3,3), activation='relu', padding='same'))\n",
    "age_model.add(Conv2D(128, kernel_size=(3,3), activation='relu'))\n",
    "age_model.add(MaxPooling2D(pool_size=(2,2)))\n",
    "age_model.add(Dropout(0.3))\n",
    "age_model.add(BatchNormalization())\n",
    "age_model.add(Conv2D(256, kernel_size=(3,3), activation='relu', padding='same'))\n",
    "age_model.add(Conv2D(256, kernel_size=(3,3), activation='relu'))\n",
    "age_model.add(MaxPooling2D(pool_size=(2,2)))\n",
    "age_model.add(Dropout(0.3))\n",
    "age_model.add(BatchNormalization())\n",
    "\n",
    "age_model.add(Conv2D(512, kernel_size=(3,3), activation='relu', padding='same'))\n",
    "age_model.add(MaxPooling2D(pool_size=(2,2)))\n",
    "age_model.add(Dropout(0.5))\n",
    "age_model.add(BatchNormalization())\n",
    "\n",
    "age_model.add(Flatten())\n",
    "age_model.add(Dense(128, activation='relu'))\n",
    "age_model.add(Dropout(0.4))\n",
    "age_model.add(Dense(1))\n",
    "age_model.compile(optimizer='adam', loss='mse')\n",
    "age_model.summary()"
   ]
  },
  {
   "cell_type": "code",
   "execution_count": 22,
   "metadata": {},
   "outputs": [],
   "source": [
    "#Epoch and batch_size for age\n",
    "n_epochs = 50\n",
    "batch_size = 64"
   ]
  },
  {
   "cell_type": "code",
   "execution_count": 16,
   "metadata": {},
   "outputs": [],
   "source": [
    "# Callbacks for age model\n",
    "callbacks = [EarlyStopping(patience=4, monitor='val_loss', mode='min'), \n",
    "             ReduceLROnPlateau(patience=2, verbose=1)] "
   ]
  },
  {
   "cell_type": "code",
   "execution_count": 17,
   "metadata": {},
   "outputs": [
    {
     "name": "stdout",
     "output_type": "stream",
     "text": [
      "Epoch 1/50\n",
      "297/297 [==============================] - 420s 1s/step - loss: 238.0335 - val_loss: 1713.0024 - lr: 0.0010\n",
      "Epoch 2/50\n",
      "297/297 [==============================] - 412s 1s/step - loss: 136.3348 - val_loss: 288.1649 - lr: 0.0010\n",
      "Epoch 3/50\n",
      "297/297 [==============================] - 425s 1s/step - loss: 119.3807 - val_loss: 177.6448 - lr: 0.0010\n",
      "Epoch 4/50\n",
      "297/297 [==============================] - 414s 1s/step - loss: 105.1685 - val_loss: 113.8838 - lr: 0.0010\n",
      "Epoch 5/50\n",
      "297/297 [==============================] - 398s 1s/step - loss: 98.0744 - val_loss: 123.3734 - lr: 0.0010\n",
      "Epoch 6/50\n",
      "297/297 [==============================] - ETA: 0s - loss: 92.5603\n",
      "Epoch 00006: ReduceLROnPlateau reducing learning rate to 0.00010000000474974513.\n",
      "297/297 [==============================] - 389s 1s/step - loss: 92.5603 - val_loss: 147.0889 - lr: 0.0010\n",
      "Epoch 7/50\n",
      "297/297 [==============================] - 367s 1s/step - loss: 77.4127 - val_loss: 73.0050 - lr: 1.0000e-04\n",
      "Epoch 8/50\n",
      "297/297 [==============================] - 348s 1s/step - loss: 72.7229 - val_loss: 84.3400 - lr: 1.0000e-04\n",
      "Epoch 9/50\n",
      "297/297 [==============================] - 370s 1s/step - loss: 70.8226 - val_loss: 69.9135 - lr: 1.0000e-04\n",
      "Epoch 10/50\n",
      "297/297 [==============================] - 350s 1s/step - loss: 67.0322 - val_loss: 65.1189 - lr: 1.0000e-04\n",
      "Epoch 11/50\n",
      "297/297 [==============================] - 392s 1s/step - loss: 64.7856 - val_loss: 80.0573 - lr: 1.0000e-04\n",
      "Epoch 12/50\n",
      "297/297 [==============================] - ETA: 0s - loss: 63.6228\n",
      "Epoch 00012: ReduceLROnPlateau reducing learning rate to 1.0000000474974514e-05.\n",
      "297/297 [==============================] - 355s 1s/step - loss: 63.6228 - val_loss: 67.5730 - lr: 1.0000e-04\n",
      "Epoch 13/50\n",
      "297/297 [==============================] - 367s 1s/step - loss: 60.7168 - val_loss: 63.6352 - lr: 1.0000e-05\n",
      "Epoch 14/50\n",
      "297/297 [==============================] - 364s 1s/step - loss: 58.9458 - val_loss: 64.8780 - lr: 1.0000e-05\n",
      "Epoch 15/50\n",
      "297/297 [==============================] - 358s 1s/step - loss: 59.2700 - val_loss: 63.2956 - lr: 1.0000e-05\n",
      "Epoch 16/50\n",
      "297/297 [==============================] - 419s 1s/step - loss: 58.6563 - val_loss: 63.2181 - lr: 1.0000e-05\n",
      "Epoch 17/50\n",
      "297/297 [==============================] - 392s 1s/step - loss: 57.3721 - val_loss: 63.6923 - lr: 1.0000e-05\n",
      "Epoch 18/50\n",
      "297/297 [==============================] - 347s 1s/step - loss: 58.9120 - val_loss: 63.1834 - lr: 1.0000e-05\n",
      "Epoch 19/50\n",
      "297/297 [==============================] - 336s 1s/step - loss: 57.9122 - val_loss: 63.8610 - lr: 1.0000e-05\n",
      "Epoch 20/50\n",
      "297/297 [==============================] - 336s 1s/step - loss: 57.7628 - val_loss: 63.1195 - lr: 1.0000e-05\n",
      "Epoch 21/50\n",
      "297/297 [==============================] - 334s 1s/step - loss: 57.5941 - val_loss: 62.9494 - lr: 1.0000e-05\n",
      "Epoch 22/50\n",
      "297/297 [==============================] - 1310s 4s/step - loss: 57.7186 - val_loss: 62.7165 - lr: 1.0000e-05\n",
      "Epoch 23/50\n",
      "297/297 [==============================] - 365s 1s/step - loss: 58.6387 - val_loss: 62.9051 - lr: 1.0000e-05\n",
      "Epoch 24/50\n",
      "297/297 [==============================] - ETA: 0s - loss: 57.2230\n",
      "Epoch 00024: ReduceLROnPlateau reducing learning rate to 1.0000000656873453e-06.\n",
      "297/297 [==============================] - 355s 1s/step - loss: 57.2230 - val_loss: 62.7208 - lr: 1.0000e-05\n",
      "Epoch 25/50\n",
      "297/297 [==============================] - 370s 1s/step - loss: 57.3875 - val_loss: 62.6825 - lr: 1.0000e-06\n",
      "Epoch 26/50\n",
      "297/297 [==============================] - 356s 1s/step - loss: 56.2053 - val_loss: 62.7027 - lr: 1.0000e-06\n",
      "Epoch 27/50\n",
      "297/297 [==============================] - 363s 1s/step - loss: 57.6073 - val_loss: 62.6396 - lr: 1.0000e-06\n",
      "Epoch 28/50\n",
      "297/297 [==============================] - 352s 1s/step - loss: 57.3819 - val_loss: 62.6290 - lr: 1.0000e-06\n",
      "Epoch 29/50\n",
      "297/297 [==============================] - 350s 1s/step - loss: 56.5796 - val_loss: 62.6159 - lr: 1.0000e-06\n",
      "Epoch 30/50\n",
      "297/297 [==============================] - 442s 1s/step - loss: 56.6096 - val_loss: 62.6665 - lr: 1.0000e-06\n",
      "Epoch 31/50\n",
      "297/297 [==============================] - ETA: 0s - loss: 57.5965\n",
      "Epoch 00031: ReduceLROnPlateau reducing learning rate to 1.0000001111620805e-07.\n",
      "297/297 [==============================] - 353s 1s/step - loss: 57.5965 - val_loss: 62.6162 - lr: 1.0000e-06\n",
      "Epoch 32/50\n",
      "297/297 [==============================] - 367s 1s/step - loss: 56.1264 - val_loss: 62.5979 - lr: 1.0000e-07\n",
      "Epoch 33/50\n",
      "297/297 [==============================] - 369s 1s/step - loss: 55.9068 - val_loss: 62.5801 - lr: 1.0000e-07\n",
      "Epoch 34/50\n",
      "297/297 [==============================] - 375s 1s/step - loss: 56.0596 - val_loss: 62.6059 - lr: 1.0000e-07\n",
      "Epoch 35/50\n",
      "297/297 [==============================] - ETA: 0s - loss: 57.0400\n",
      "Epoch 00035: ReduceLROnPlateau reducing learning rate to 1.000000082740371e-08.\n",
      "297/297 [==============================] - 379s 1s/step - loss: 57.0400 - val_loss: 62.5828 - lr: 1.0000e-07\n",
      "Epoch 36/50\n",
      "297/297 [==============================] - 371s 1s/step - loss: 56.7809 - val_loss: 62.5819 - lr: 1.0000e-08\n",
      "Epoch 37/50\n",
      "297/297 [==============================] - ETA: 0s - loss: 56.5481\n",
      "Epoch 00037: ReduceLROnPlateau reducing learning rate to 1.000000082740371e-09.\n",
      "297/297 [==============================] - 380s 1s/step - loss: 56.5481 - val_loss: 62.5855 - lr: 1.0000e-08\n"
     ]
    }
   ],
   "source": [
    "history = age_model.fit(X_train, y_train, \n",
    "                        epochs=n_epochs,\n",
    "                        batch_size=batch_size,\n",
    "                        callbacks=callbacks,\n",
    "                        validation_data=(X_test, y_test))"
   ]
  },
  {
   "cell_type": "code",
   "execution_count": 18,
   "metadata": {},
   "outputs": [
    {
     "data": {
      "image/png": "[encoded data removed]",
      "text/plain": [
       "<Figure size 432x288 with 1 Axes>"
      ]
     },
     "metadata": {},
     "output_type": "display_data"
    }
   ],
   "source": [
    "pd.DataFrame(history.history).plot();"
   ]
  },
  {
   "cell_type": "code",
   "execution_count": 19,
   "metadata": {},
   "outputs": [
    {
     "name": "stdout",
     "output_type": "stream",
     "text": [
      "149/149 [==============================] - 18s 123ms/step - loss: 62.5855\n"
     ]
    }
   ],
   "source": [
    "valid_score = age_model.evaluate(X_test, y_test, verbose=1)"
   ]
  },
  {
   "cell_type": "code",
   "execution_count": 20,
   "metadata": {},
   "outputs": [],
   "source": [
    "y_pred = age_model.predict(X_test)"
   ]
  },
  {
   "cell_type": "code",
   "execution_count": 21,
   "metadata": {},
   "outputs": [
    {
     "data": {
      "image/png": "[encoded data removed]",
      "text/plain": [
       "<Figure size 432x288 with 1 Axes>"
      ]
     },
     "metadata": {},
     "output_type": "display_data"
    }
   ],
   "source": [
    "plt.plot(history.history['loss'])\n",
    "plt.plot(history.history['val_loss'])\n",
    "plt.title('Model loss')\n",
    "plt.ylabel('loss')\n",
    "plt.xlabel('epoch')\n",
    "plt.legend(['train', 'validation'], loc='upper left')\n",
    "plt.show()\n",
    "\n"
   ]
  },
  {
   "cell_type": "code",
   "execution_count": 22,
   "metadata": {},
   "outputs": [
    {
     "name": "stdout",
     "output_type": "stream",
     "text": [
      "MAE: 5.6023929391611835\n"
     ]
    }
   ],
   "source": [
    "print(\"MAE: {}\".format(mean_absolute_error(y_test, y_pred)))"
   ]
  },
  {
   "cell_type": "code",
   "execution_count": 7,
   "metadata": {},
   "outputs": [
    {
     "ename": "NameError",
     "evalue": "name 'age_model' is not defined",
     "output_type": "error",
     "traceback": [
      "\u001b[1;31m---------------------------------------------------------------------------\u001b[0m",
      "\u001b[1;31mNameError\u001b[0m                                 Traceback (most recent call last)",
      "Input \u001b[1;32mIn [7]\u001b[0m, in \u001b[0;36m<module>\u001b[1;34m\u001b[0m\n\u001b[1;32m----> 1\u001b[0m tf\u001b[38;5;241m.\u001b[39mkeras\u001b[38;5;241m.\u001b[39mmodels\u001b[38;5;241m.\u001b[39msave_model(\u001b[43mage_model\u001b[49m,\u001b[38;5;124m'\u001b[39m\u001b[38;5;124mAge_model.hdf5\u001b[39m\u001b[38;5;124m'\u001b[39m)\n",
      "\u001b[1;31mNameError\u001b[0m: name 'age_model' is not defined"
     ]
    }
   ],
   "source": [
    "tf.keras.models.save_model(age_model,'Age_model.hdf5')"
   ]
  },
  {
   "cell_type": "markdown",
   "metadata": {},
   "source": [
    "GENDER "
   ]
  },
  {
   "cell_type": "code",
   "execution_count": 14,
   "metadata": {},
   "outputs": [],
   "source": [
    "y=data['gender'].values\n",
    "X_train,X_test,y_train,y_test=train_test_split(X_reshaped,y,test_size=0.2,random_state=42)"
   ]
  },
  {
   "cell_type": "code",
   "execution_count": 15,
   "metadata": {},
   "outputs": [
    {
     "name": "stdout",
     "output_type": "stream",
     "text": [
      "Model: \"sequential\"\n",
      "_________________________________________________________________\n",
      " Layer (type)                Output Shape              Param #   \n",
      "=================================================================\n",
      " conv2d (Conv2D)             (None, 46, 46, 64)        640       \n",
      "                                                                 \n",
      " max_pooling2d (MaxPooling2D  (None, 23, 23, 64)       0         \n",
      " )                                                               \n",
      "                                                                 \n",
      " batch_normalization (BatchN  (None, 23, 23, 64)       256       \n",
      " ormalization)                                                   \n",
      "                                                                 \n",
      " conv2d_1 (Conv2D)           (None, 21, 21, 128)       73856     \n",
      "                                                                 \n",
      " max_pooling2d_1 (MaxPooling  (None, 10, 10, 128)      0         \n",
      " 2D)                                                             \n",
      "                                                                 \n",
      " dropout (Dropout)           (None, 10, 10, 128)       0         \n",
      "                                                                 \n",
      " batch_normalization_1 (Batc  (None, 10, 10, 128)      512       \n",
      " hNormalization)                                                 \n",
      "                                                                 \n",
      " conv2d_2 (Conv2D)           (None, 8, 8, 256)         295168    \n",
      "                                                                 \n",
      " conv2d_3 (Conv2D)           (None, 6, 6, 256)         590080    \n",
      "                                                                 \n",
      " max_pooling2d_2 (MaxPooling  (None, 3, 3, 256)        0         \n",
      " 2D)                                                             \n",
      "                                                                 \n",
      " dropout_1 (Dropout)         (None, 3, 3, 256)         0         \n",
      "                                                                 \n",
      " batch_normalization_2 (Batc  (None, 3, 3, 256)        1024      \n",
      " hNormalization)                                                 \n",
      "                                                                 \n",
      " flatten (Flatten)           (None, 2304)              0         \n",
      "                                                                 \n",
      " dense (Dense)               (None, 64)                147520    \n",
      "                                                                 \n",
      " dropout_2 (Dropout)         (None, 64)                0         \n",
      "                                                                 \n",
      " dense_1 (Dense)             (None, 1)                 65        \n",
      "                                                                 \n",
      "=================================================================\n",
      "Total params: 1,109,121\n",
      "Trainable params: 1,108,225\n",
      "Non-trainable params: 896\n",
      "_________________________________________________________________\n"
     ]
    }
   ],
   "source": [
    "#Model for Gender\n",
    "\n",
    "gender_model = Sequential()\n",
    "\n",
    "gender_model.add(Conv2D(64, kernel_size=(3,3), input_shape=input_shape, activation='relu'))\n",
    "gender_model.add(MaxPooling2D(pool_size=(2,2)))\n",
    "gender_model.add(BatchNormalization())\n",
    "\n",
    "gender_model.add(Conv2D(128, kernel_size=(3,3), activation='relu'))\n",
    "gender_model.add(MaxPooling2D(pool_size=(2,2)))\n",
    "gender_model.add(Dropout(0.4))\n",
    "gender_model.add(BatchNormalization())\n",
    "gender_model.add(Conv2D(256, kernel_size=(3,3), activation='relu'))\n",
    "gender_model.add(Conv2D(256, kernel_size=(3,3), activation='relu'))\n",
    "gender_model.add(MaxPooling2D(pool_size=(2,2)))\n",
    "gender_model.add(Dropout(0.5))\n",
    "gender_model.add(BatchNormalization())\n",
    "\n",
    "gender_model.add(Flatten())\n",
    "gender_model.add(Dense(64, activation='relu'))\n",
    "gender_model.add(Dropout(0.4))\n",
    "gender_model.add(Dense(1,activation='sigmoid'))\n",
    "gender_model.compile(optimizer='adam', loss='binary_crossentropy',metrics=['accuracy'])\n",
    "gender_model.summary()"
   ]
  },
  {
   "cell_type": "code",
   "execution_count": 15,
   "metadata": {},
   "outputs": [],
   "source": [
    "# Callbacks for gender model\n",
    "callbacks = [EarlyStopping(patience=4, monitor='val_accuracy', mode='max'), \n",
    "             ReduceLROnPlateau(patience=2, verbose=1)] "
   ]
  },
  {
   "cell_type": "code",
   "execution_count": 16,
   "metadata": {},
   "outputs": [
    {
     "name": "stdout",
     "output_type": "stream",
     "text": [
      "Epoch 1/50\n",
      "297/297 [==============================] - 267s 897ms/step - loss: 0.5015 - accuracy: 0.7637 - val_loss: 0.9938 - val_accuracy: 0.5206 - lr: 0.0010\n",
      "Epoch 2/50\n",
      "297/297 [==============================] - 199s 670ms/step - loss: 0.3568 - accuracy: 0.8401 - val_loss: 0.4820 - val_accuracy: 0.7439 - lr: 0.0010\n",
      "Epoch 3/50\n",
      "297/297 [==============================] - 151s 510ms/step - loss: 0.3095 - accuracy: 0.8630 - val_loss: 0.2974 - val_accuracy: 0.8661 - lr: 0.0010\n",
      "Epoch 4/50\n",
      "297/297 [==============================] - 160s 539ms/step - loss: 0.2948 - accuracy: 0.8693 - val_loss: 0.2728 - val_accuracy: 0.8789 - lr: 0.0010\n",
      "Epoch 5/50\n",
      "297/297 [==============================] - 152s 511ms/step - loss: 0.2716 - accuracy: 0.8801 - val_loss: 0.2721 - val_accuracy: 0.8819 - lr: 0.0010\n",
      "Epoch 6/50\n",
      "297/297 [==============================] - 152s 511ms/step - loss: 0.2612 - accuracy: 0.8860 - val_loss: 0.2550 - val_accuracy: 0.8823 - lr: 0.0010\n",
      "Epoch 7/50\n",
      "297/297 [==============================] - 151s 508ms/step - loss: 0.2535 - accuracy: 0.8872 - val_loss: 0.2535 - val_accuracy: 0.8916 - lr: 0.0010\n",
      "Epoch 8/50\n",
      "297/297 [==============================] - 152s 512ms/step - loss: 0.2457 - accuracy: 0.8933 - val_loss: 0.2493 - val_accuracy: 0.8914 - lr: 0.0010\n",
      "Epoch 9/50\n",
      "297/297 [==============================] - 151s 510ms/step - loss: 0.2362 - accuracy: 0.8997 - val_loss: 0.2516 - val_accuracy: 0.8844 - lr: 0.0010\n",
      "Epoch 10/50\n",
      "297/297 [==============================] - ETA: 0s - loss: 0.2242 - accuracy: 0.9017\n",
      "Epoch 00010: ReduceLROnPlateau reducing learning rate to 0.00010000000474974513.\n",
      "297/297 [==============================] - 153s 514ms/step - loss: 0.2242 - accuracy: 0.9017 - val_loss: 0.3121 - val_accuracy: 0.8667 - lr: 0.0010\n",
      "Epoch 11/50\n",
      "297/297 [==============================] - 151s 508ms/step - loss: 0.1978 - accuracy: 0.9174 - val_loss: 0.2311 - val_accuracy: 0.9053 - lr: 1.0000e-04\n",
      "Epoch 12/50\n",
      "297/297 [==============================] - 151s 509ms/step - loss: 0.1842 - accuracy: 0.9232 - val_loss: 0.2291 - val_accuracy: 0.9063 - lr: 1.0000e-04\n",
      "Epoch 13/50\n",
      "297/297 [==============================] - 7593s 26s/step - loss: 0.1787 - accuracy: 0.9245 - val_loss: 0.2301 - val_accuracy: 0.9074 - lr: 1.0000e-04\n",
      "Epoch 14/50\n",
      "297/297 [==============================] - 256s 861ms/step - loss: 0.1731 - accuracy: 0.9277 - val_loss: 0.2272 - val_accuracy: 0.9095 - lr: 1.0000e-04\n",
      "Epoch 15/50\n",
      "297/297 [==============================] - 363s 1s/step - loss: 0.1691 - accuracy: 0.9311 - val_loss: 0.2272 - val_accuracy: 0.9095 - lr: 1.0000e-04\n",
      "Epoch 16/50\n",
      "297/297 [==============================] - ETA: 0s - loss: 0.1628 - accuracy: 0.9317\n",
      "Epoch 00016: ReduceLROnPlateau reducing learning rate to 1.0000000474974514e-05.\n",
      "297/297 [==============================] - 359s 1s/step - loss: 0.1628 - accuracy: 0.9317 - val_loss: 0.2315 - val_accuracy: 0.9095 - lr: 1.0000e-04\n",
      "Epoch 17/50\n",
      "297/297 [==============================] - 353s 1s/step - loss: 0.1564 - accuracy: 0.9342 - val_loss: 0.2293 - val_accuracy: 0.9112 - lr: 1.0000e-05\n",
      "Epoch 18/50\n",
      "297/297 [==============================] - ETA: 0s - loss: 0.1534 - accuracy: 0.9354\n",
      "Epoch 00018: ReduceLROnPlateau reducing learning rate to 1.0000000656873453e-06.\n",
      "297/297 [==============================] - 342s 1s/step - loss: 0.1534 - accuracy: 0.9354 - val_loss: 0.2299 - val_accuracy: 0.9120 - lr: 1.0000e-05\n",
      "Epoch 19/50\n",
      "297/297 [==============================] - 354s 1s/step - loss: 0.1505 - accuracy: 0.9379 - val_loss: 0.2299 - val_accuracy: 0.9120 - lr: 1.0000e-06\n",
      "Epoch 20/50\n",
      "297/297 [==============================] - ETA: 0s - loss: 0.1542 - accuracy: 0.9365\n",
      "Epoch 00020: ReduceLROnPlateau reducing learning rate to 1.0000001111620805e-07.\n",
      "297/297 [==============================] - 328s 1s/step - loss: 0.1542 - accuracy: 0.9365 - val_loss: 0.2302 - val_accuracy: 0.9110 - lr: 1.0000e-06\n",
      "Epoch 21/50\n",
      "297/297 [==============================] - 348s 1s/step - loss: 0.1559 - accuracy: 0.9340 - val_loss: 0.2302 - val_accuracy: 0.9116 - lr: 1.0000e-07\n",
      "Epoch 22/50\n",
      "297/297 [==============================] - ETA: 0s - loss: 0.1554 - accuracy: 0.9341\n",
      "Epoch 00022: ReduceLROnPlateau reducing learning rate to 1.000000082740371e-08.\n",
      "297/297 [==============================] - 339s 1s/step - loss: 0.1554 - accuracy: 0.9341 - val_loss: 0.2299 - val_accuracy: 0.9120 - lr: 1.0000e-07\n"
     ]
    }
   ],
   "source": [
    "history = gender_model.fit(X_train, y_train, \n",
    "                           epochs=n_epochs,\n",
    "                           batch_size=batch_size,\n",
    "                           callbacks=callbacks,\n",
    "                           validation_data=(X_test, y_test))"
   ]
  },
  {
   "cell_type": "code",
   "execution_count": 17,
   "metadata": {},
   "outputs": [
    {
     "name": "stdout",
     "output_type": "stream",
     "text": [
      "149/149 [==============================] - 10s 64ms/step - loss: 0.2299 - accuracy: 0.9120\n",
      "Accuracy for test set: 0.9120438694953918\n"
     ]
    }
   ],
   "source": [
    "valid_score = gender_model.evaluate(X_test, y_test, verbose=1)\n",
    "print('Accuracy for test set: {0}'.format(valid_score[1]))"
   ]
  },
  {
   "cell_type": "code",
   "execution_count": 18,
   "metadata": {},
   "outputs": [],
   "source": [
    "y_pred = gender_model.predict(X_test)\n",
    "y_pred = np.round(y_pred).astype(int)"
   ]
  },
  {
   "cell_type": "code",
   "execution_count": 19,
   "metadata": {},
   "outputs": [
    {
     "name": "stdout",
     "output_type": "stream",
     "text": [
      "              precision    recall  f1-score   support\n",
      "\n",
      "           0       0.92      0.91      0.92      2468\n",
      "           1       0.90      0.91      0.91      2273\n",
      "\n",
      "    accuracy                           0.91      4741\n",
      "   macro avg       0.91      0.91      0.91      4741\n",
      "weighted avg       0.91      0.91      0.91      4741\n",
      "\n"
     ]
    },
    {
     "data": {
      "text/plain": [
       "<AxesSubplot:>"
      ]
     },
     "execution_count": 19,
     "metadata": {},
     "output_type": "execute_result"
    },
    {
     "data": {
      "image/png": "[encoded data removed]",
      "text/plain": [
       "<Figure size 432x288 with 1 Axes>"
      ]
     },
     "metadata": {},
     "output_type": "display_data"
    }
   ],
   "source": [
    "print(classification_report(y_test, y_pred))\n",
    "cm = confusion_matrix(y_test, y_pred)\n",
    "sns.heatmap(cm, cmap='Blues', cbar=False, annot=True, fmt='d')"
   ]
  },
  {
   "cell_type": "code",
   "execution_count": null,
   "metadata": {},
   "outputs": [],
   "source": [
    "tf.keras.models.save_model(gender_model,'Gender_model.hdf5')"
   ]
  },
  {
   "cell_type": "markdown",
   "metadata": {},
   "source": [
    "Ethnicity"
   ]
  },
  {
   "cell_type": "code",
   "execution_count": 16,
   "metadata": {},
   "outputs": [
    {
     "data": {
      "text/plain": [
       "array([[0., 0., 1., 0., 0.],\n",
       "       [0., 0., 1., 0., 0.],\n",
       "       [0., 0., 1., 0., 0.],\n",
       "       ...,\n",
       "       [0., 0., 1., 0., 0.],\n",
       "       [0., 0., 1., 0., 0.],\n",
       "       [1., 0., 0., 0., 0.]], dtype=float32)"
      ]
     },
     "execution_count": 16,
     "metadata": {},
     "output_type": "execute_result"
    }
   ],
   "source": [
    "y=data['ethnicity'].values\n",
    "y=to_categorical(y,5)\n",
    "y\n"
   ]
  },
  {
   "cell_type": "code",
   "execution_count": 17,
   "metadata": {},
   "outputs": [],
   "source": [
    "X_train,X_test,y_train,y_test=train_test_split(X_reshaped,y,test_size=0.2,random_state=42)"
   ]
  },
  {
   "cell_type": "code",
   "execution_count": 29,
   "metadata": {},
   "outputs": [
    {
     "name": "stdout",
     "output_type": "stream",
     "text": [
      "Model: \"sequential_5\"\n",
      "_________________________________________________________________\n",
      " Layer (type)                Output Shape              Param #   \n",
      "=================================================================\n",
      " conv2d_16 (Conv2D)          (None, 46, 46, 64)        640       \n",
      "                                                                 \n",
      " max_pooling2d_15 (MaxPoolin  (None, 23, 23, 64)       0         \n",
      " g2D)                                                            \n",
      "                                                                 \n",
      " batch_normalization_15 (Bat  (None, 23, 23, 64)       256       \n",
      " chNormalization)                                                \n",
      "                                                                 \n",
      " conv2d_17 (Conv2D)          (None, 21, 21, 128)       73856     \n",
      "                                                                 \n",
      " max_pooling2d_16 (MaxPoolin  (None, 10, 10, 128)      0         \n",
      " g2D)                                                            \n",
      "                                                                 \n",
      " batch_normalization_16 (Bat  (None, 10, 10, 128)      512       \n",
      " chNormalization)                                                \n",
      "                                                                 \n",
      " conv2d_18 (Conv2D)          (None, 8, 8, 256)         295168    \n",
      "                                                                 \n",
      " max_pooling2d_17 (MaxPoolin  (None, 4, 4, 256)        0         \n",
      " g2D)                                                            \n",
      "                                                                 \n",
      " dropout_11 (Dropout)        (None, 4, 4, 256)         0         \n",
      "                                                                 \n",
      " batch_normalization_17 (Bat  (None, 4, 4, 256)        1024      \n",
      " chNormalization)                                                \n",
      "                                                                 \n",
      " flatten_5 (Flatten)         (None, 4096)              0         \n",
      "                                                                 \n",
      " dense_10 (Dense)            (None, 128)               524416    \n",
      "                                                                 \n",
      " dropout_12 (Dropout)        (None, 128)               0         \n",
      "                                                                 \n",
      " dense_11 (Dense)            (None, 5)                 645       \n",
      "                                                                 \n",
      "=================================================================\n",
      "Total params: 896,517\n",
      "Trainable params: 895,621\n",
      "Non-trainable params: 896\n",
      "_________________________________________________________________\n"
     ]
    }
   ],
   "source": [
    "#Model for Ethicity\n",
    "\n",
    "eth_model = Sequential()\n",
    "\n",
    "eth_model.add(Conv2D(64, kernel_size=(3,3), input_shape=input_shape, activation='relu'))\n",
    "eth_model.add(MaxPooling2D(pool_size=(2,2)))\n",
    "eth_model.add(BatchNormalization())\n",
    "\n",
    "eth_model.add(Conv2D(128, kernel_size=(3,3), activation='relu'))\n",
    "eth_model.add(MaxPooling2D(pool_size=(2,2)))\n",
    "eth_model.add(BatchNormalization())\n",
    "\n",
    "eth_model.add(Conv2D(256, kernel_size=(3,3), activation='relu'))\n",
    "eth_model.add(MaxPooling2D(pool_size=(2,2)))\n",
    "eth_model.add(Dropout(0.5))\n",
    "eth_model.add(BatchNormalization())\n",
    "eth_model.add(Flatten())\n",
    "eth_model.add(Dense(128, activation='relu'))\n",
    "eth_model.add(Dropout(0.5))\n",
    "eth_model.add(Dense(5, activation='sigmoid')) \n",
    "eth_model.compile(optimizer='adam', loss='categorical_crossentropy',metrics=['accuracy'])\n",
    "eth_model.summary()"
   ]
  },
  {
   "cell_type": "code",
   "execution_count": 30,
   "metadata": {},
   "outputs": [],
   "source": [
    "# Callbacks for age model\n",
    "callbacks = [EarlyStopping(patience=4, monitor='val_accuracy', mode='max'), \n",
    "             ReduceLROnPlateau(patience=2, verbose=1)] "
   ]
  },
  {
   "cell_type": "code",
   "execution_count": 32,
   "metadata": {},
   "outputs": [
    {
     "name": "stdout",
     "output_type": "stream",
     "text": [
      "Epoch 1/50\n",
      "297/297 [==============================] - 153s 503ms/step - loss: 1.1902 - accuracy: 0.5696 - val_loss: 3.8914 - val_accuracy: 0.4318 - lr: 0.0010\n",
      "Epoch 2/50\n",
      "297/297 [==============================] - 136s 458ms/step - loss: 0.8936 - accuracy: 0.6873 - val_loss: 1.0963 - val_accuracy: 0.5959 - lr: 0.0010\n",
      "Epoch 3/50\n",
      "297/297 [==============================] - 130s 437ms/step - loss: 0.8111 - accuracy: 0.7178 - val_loss: 0.9042 - val_accuracy: 0.7074 - lr: 0.0010\n",
      "Epoch 4/50\n",
      "297/297 [==============================] - 126s 424ms/step - loss: 0.7383 - accuracy: 0.7444 - val_loss: 0.6929 - val_accuracy: 0.7547 - lr: 0.0010\n",
      "Epoch 5/50\n",
      "297/297 [==============================] - 126s 424ms/step - loss: 0.6910 - accuracy: 0.7646 - val_loss: 1.0189 - val_accuracy: 0.6075 - lr: 0.0010\n",
      "Epoch 6/50\n",
      "297/297 [==============================] - ETA: 0s - loss: 0.6387 - accuracy: 0.7805\n",
      "Epoch 00006: ReduceLROnPlateau reducing learning rate to 0.00010000000474974513.\n",
      "297/297 [==============================] - 119s 402ms/step - loss: 0.6387 - accuracy: 0.7805 - val_loss: 0.7301 - val_accuracy: 0.7475 - lr: 0.0010\n",
      "Epoch 7/50\n",
      "297/297 [==============================] - 120s 405ms/step - loss: 0.5573 - accuracy: 0.8053 - val_loss: 0.5666 - val_accuracy: 0.7996 - lr: 1.0000e-04\n",
      "Epoch 8/50\n",
      "297/297 [==============================] - 118s 398ms/step - loss: 0.5238 - accuracy: 0.8181 - val_loss: 0.5636 - val_accuracy: 0.8036 - lr: 1.0000e-04\n",
      "Epoch 9/50\n",
      "297/297 [==============================] - 121s 407ms/step - loss: 0.4996 - accuracy: 0.8260 - val_loss: 0.5581 - val_accuracy: 0.8049 - lr: 1.0000e-04\n",
      "Epoch 10/50\n",
      "297/297 [==============================] - 113s 380ms/step - loss: 0.4750 - accuracy: 0.8328 - val_loss: 0.5647 - val_accuracy: 0.8030 - lr: 1.0000e-04\n",
      "Epoch 11/50\n",
      "297/297 [==============================] - 119s 400ms/step - loss: 0.4600 - accuracy: 0.8390 - val_loss: 0.5523 - val_accuracy: 0.8070 - lr: 1.0000e-04\n",
      "Epoch 12/50\n",
      "297/297 [==============================] - 115s 388ms/step - loss: 0.4465 - accuracy: 0.8417 - val_loss: 0.5583 - val_accuracy: 0.8083 - lr: 1.0000e-04\n",
      "Epoch 13/50\n",
      "297/297 [==============================] - 115s 387ms/step - loss: 0.4253 - accuracy: 0.8520 - val_loss: 0.5492 - val_accuracy: 0.8112 - lr: 1.0000e-04\n",
      "Epoch 14/50\n",
      "297/297 [==============================] - 112s 377ms/step - loss: 0.4123 - accuracy: 0.8528 - val_loss: 0.6163 - val_accuracy: 0.7962 - lr: 1.0000e-04\n",
      "Epoch 15/50\n",
      "297/297 [==============================] - ETA: 0s - loss: 0.3971 - accuracy: 0.8598\n",
      "Epoch 00015: ReduceLROnPlateau reducing learning rate to 1.0000000474974514e-05.\n",
      "297/297 [==============================] - 112s 375ms/step - loss: 0.3971 - accuracy: 0.8598 - val_loss: 0.5698 - val_accuracy: 0.8102 - lr: 1.0000e-04\n",
      "Epoch 16/50\n",
      "297/297 [==============================] - 112s 376ms/step - loss: 0.3774 - accuracy: 0.8644 - val_loss: 0.5520 - val_accuracy: 0.8161 - lr: 1.0000e-05\n",
      "Epoch 17/50\n",
      "297/297 [==============================] - ETA: 0s - loss: 0.3681 - accuracy: 0.8661\n",
      "Epoch 00017: ReduceLROnPlateau reducing learning rate to 1.0000000656873453e-06.\n",
      "297/297 [==============================] - 112s 376ms/step - loss: 0.3681 - accuracy: 0.8661 - val_loss: 0.5548 - val_accuracy: 0.8142 - lr: 1.0000e-05\n",
      "Epoch 18/50\n",
      "297/297 [==============================] - 114s 382ms/step - loss: 0.3707 - accuracy: 0.8665 - val_loss: 0.5545 - val_accuracy: 0.8148 - lr: 1.0000e-06\n",
      "Epoch 19/50\n",
      "297/297 [==============================] - ETA: 0s - loss: 0.3664 - accuracy: 0.8689 \n",
      "Epoch 00019: ReduceLROnPlateau reducing learning rate to 1.0000001111620805e-07.\n",
      "297/297 [==============================] - 7960s 27s/step - loss: 0.3664 - accuracy: 0.8689 - val_loss: 0.5545 - val_accuracy: 0.8146 - lr: 1.0000e-06\n",
      "Epoch 20/50\n",
      "297/297 [==============================] - 124s 415ms/step - loss: 0.3694 - accuracy: 0.8676 - val_loss: 0.5543 - val_accuracy: 0.8150 - lr: 1.0000e-07\n"
     ]
    }
   ],
   "source": [
    "history = eth_model.fit(X_train, y_train, \n",
    "                           epochs=n_epochs,\n",
    "                           batch_size=batch_size,\n",
    "                           callbacks=callbacks,\n",
    "                           validation_data=(X_test, y_test))"
   ]
  },
  {
   "cell_type": "code",
   "execution_count": 33,
   "metadata": {},
   "outputs": [
    {
     "name": "stdout",
     "output_type": "stream",
     "text": [
      "149/149 [==============================] - 8s 54ms/step - loss: 0.5543 - accuracy: 0.8150\n",
      "Accuracy for test set: 0.8150179386138916\n"
     ]
    }
   ],
   "source": [
    "valid_score = eth_model.evaluate(X_test, y_test, verbose=1)\n",
    "print('Accuracy for test set: {0}'.format(valid_score[1]))"
   ]
  },
  {
   "cell_type": "code",
   "execution_count": 34,
   "metadata": {},
   "outputs": [],
   "source": [
    "y_pred = eth_model.predict(X_test)\n",
    "y_pred = np.round(y_pred).astype(int)"
   ]
  },
  {
   "cell_type": "code",
   "execution_count": 36,
   "metadata": {},
   "outputs": [
    {
     "name": "stdout",
     "output_type": "stream",
     "text": [
      "              precision    recall  f1-score   support\n",
      "\n",
      "           0       0.48      0.99      0.65      2047\n",
      "           1       0.56      0.96      0.71       904\n",
      "           2       0.55      0.95      0.70       657\n",
      "           3       0.31      0.98      0.47       804\n",
      "           4       0.08      0.95      0.15       329\n",
      "\n",
      "   micro avg       0.35      0.97      0.51      4741\n",
      "   macro avg       0.40      0.97      0.53      4741\n",
      "weighted avg       0.45      0.97      0.60      4741\n",
      " samples avg       0.38      0.97      0.54      4741\n",
      "\n"
     ]
    },
    {
     "name": "stderr",
     "output_type": "stream",
     "text": [
      "C:\\Users\\ASUS\\anaconda3\\envs\\envo\\lib\\site-packages\\sklearn\\metrics\\_classification.py:1318: UndefinedMetricWarning: Precision and F-score are ill-defined and being set to 0.0 in samples with no predicted labels. Use `zero_division` parameter to control this behavior.\n",
      "  _warn_prf(average, modifier, msg_start, len(result))\n"
     ]
    }
   ],
   "source": [
    "print(classification_report(y_test, y_pred))\n"
   ]
  },
  {
   "cell_type": "code",
   "execution_count": null,
   "metadata": {},
   "outputs": [],
   "source": [
    "tf.keras.models.save_model(eth_model,'eth_model.hdf5')"
   ]
  },
  {
   "cell_type": "markdown",
   "metadata": {},
   "source": [
    "Mean squared Error for Age=5.60\n",
    "Accuracy for Gender=91.20\n",
    "Accuracy for Ethnicity=81.50"
   ]
  },
  {
   "cell_type": "markdown",
   "metadata": {},
   "source": [
    "According to Accuracy & MSE value the model is stable to predict a persons age,gender & ethnicity."
   ]
  },
  {
   "cell_type": "code",
   "execution_count": null,
   "metadata": {},
   "outputs": [],
   "source": []
  }
 ],
 "metadata": {
  "interpreter": {
   "hash": "587fb584d547ee158da5b451f77f74aec36337c97101cdd04b5daaa64e8647e9"
  },
  "kernelspec": {
   "display_name": "Python 3.9.7 64-bit ('envo': conda)",
   "language": "python",
   "name": "python3"
  },
  "language_info": {
   "codemirror_mode": {
    "name": "ipython",
    "version": 3
   },
   "file_extension": ".py",
   "mimetype": "text/x-python",
   "name": "python",
   "nbconvert_exporter": "python",
   "pygments_lexer": "ipython3",
   "version": "3.9.7"
  },
  "orig_nbformat": 4
 },
 "nbformat": 4,
 "nbformat_minor": 2
}
